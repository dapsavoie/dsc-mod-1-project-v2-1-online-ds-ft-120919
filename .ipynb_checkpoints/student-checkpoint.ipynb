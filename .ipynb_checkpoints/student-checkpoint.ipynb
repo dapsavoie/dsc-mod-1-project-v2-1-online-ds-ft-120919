{
 "cells": [
  {
   "cell_type": "markdown",
   "metadata": {},
   "source": [
    "## Final Project Submission\n",
    "\n",
    "Please fill out:\n",
    "* Student name: \n",
    "* Student pace: self paced / part time / full time\n",
    "* Scheduled project review date/time: \n",
    "* Instructor name: \n",
    "* Blog post URL:\n"
   ]
  },
  {
   "cell_type": "code",
   "execution_count": null,
   "metadata": {},
   "outputs": [],
   "source": [
    "#Daven Prashar-Savoie\n",
    "#Full time online\n",
    "#Due Jan 19 2020\n",
    "#Rafael Carassco \n",
    "#Blog post URL = "
   ]
  },
  {
   "cell_type": "code",
   "execution_count": null,
   "metadata": {},
   "outputs": [],
   "source": [
    "import os \n",
    "import numpy as np\n",
    "import pandas as pd\n",
    "from glob import glob "
   ]
  },
  {
   "cell_type": "code",
   "execution_count": null,
   "metadata": {},
   "outputs": [],
   "source": [
    "from IPython.core.interactiveshell import InteractiveShell\n",
    "InteractiveShell.ast_node_interactivity = \"all\""
   ]
  },
  {
   "cell_type": "code",
   "execution_count": null,
   "metadata": {},
   "outputs": [],
   "source": [
    "os.listdir() #use the os function to see all the file names "
   ]
  },
  {
   "cell_type": "code",
   "execution_count": null,
   "metadata": {},
   "outputs": [],
   "source": [
    "#create a variable that lists all the files in the zipped file folder\n",
    "\n",
    "zipped_data = os.listdir(r\"C:\\Users\\User\\flatiron\\finalproject\\dsc-mod-1-project-v2-1-online-ds-ft-120919\\zippedData\")\n",
    "print(zipped_data)"
   ]
  },
  {
   "cell_type": "code",
   "execution_count": null,
   "metadata": {},
   "outputs": [],
   "source": [
    "#long form way of loading multiple files - DONT DO THIS\n",
    "#Question: can i load these with a function?\n",
    "#can i clean the titles, with a function? \n",
    "\n",
    "bom_movie_gross = pd.read_csv(r\"C:\\Users\\User\\flatiron\\finalproject\\dsc-mod-1-project-v2-1-online-ds-ft-120919\\zippedData\\bom.movie_gross.csv\")\n",
    "imdb_name_basics = pd.read_csv(r\"C:\\Users\\User\\flatiron\\finalproject\\dsc-mod-1-project-v2-1-online-ds-ft-120919\\zippedData\\imdb.name.basics.csv\")  \n",
    "titles_akas = pd.read_csv(r\"C:\\Users\\User\\flatiron\\finalproject\\dsc-mod-1-project-v2-1-online-ds-ft-120919\\zippedData\\title.akas.csv\")\n",
    "titles_basics = pd.read_csv(r\"C:\\Users\\User\\flatiron\\finalproject\\dsc-mod-1-project-v2-1-online-ds-ft-120919\\zippedData\\title.basics.csv\")\n",
    "title_crew = pd.read_csv(r\"C:\\Users\\User\\flatiron\\finalproject\\dsc-mod-1-project-v2-1-online-ds-ft-120919\\zippedData\\title.crew.csv\")\n",
    "title_principals = pd.read_csv(r\"C:\\Users\\User\\flatiron\\finalproject\\dsc-mod-1-project-v2-1-online-ds-ft-120919\\zippedData\\title.principals.csv\")\n",
    "title_ratings = pd.read_csv(r\"C:\\Users\\User\\flatiron\\finalproject\\dsc-mod-1-project-v2-1-online-ds-ft-120919\\zippedData\\title.ratings.csv\")\n",
    "tmdb_movies = pd.read_csv(r\"C:\\Users\\User\\flatiron\\finalproject\\dsc-mod-1-project-v2-1-online-ds-ft-120919\\zippedData\\tmdb.movies.csv\")\n",
    "tn_movies_budgets = pd.read_csv(r\"C:\\Users\\User\\flatiron\\finalproject\\dsc-mod-1-project-v2-1-online-ds-ft-120919\\zippedData\\tn.movie_budgets.csv\")"
   ]
  },
  {
   "cell_type": "code",
   "execution_count": null,
   "metadata": {},
   "outputs": [],
   "source": [
    "#Short form way of loading multiple files - DO THIS\n",
    "\n",
    "csv_files = glob(r\"zippedData\\*.csv\")\n",
    "csv_files "
   ]
  },
  {
   "cell_type": "code",
   "execution_count": null,
   "metadata": {},
   "outputs": [],
   "source": [
    "#Create a dictionary, populate with cleaned filenames \n",
    "#Change . to _\n",
    "#\n",
    "csv_files_dict = {}\n",
    "for filename in csv_files:\n",
    "    filename_cleaned = os.path.basename(filename).replace(\".csv\", \"\").replace(\".\", \"_\")\n",
    "    filename_df = pd.read_csv(filename, index_col = 0)\n",
    "    csv_files_dict[filename_cleaned] = filename_df"
   ]
  },
  {
   "cell_type": "code",
   "execution_count": null,
   "metadata": {},
   "outputs": [],
   "source": [
    "csv_files_dict.keys()"
   ]
  },
  {
   "cell_type": "code",
   "execution_count": null,
   "metadata": {},
   "outputs": [],
   "source": [
    "#REALLY IMPORTANT QUESTION - \n",
    "#can i change the keY: value pairs in the csv files dictionary to a df so i can use pandas with each of the csv's individually!\n",
    "#like i did below\n",
    "\n",
    "list(csv_files_dict.values())"
   ]
  },
  {
   "cell_type": "code",
   "execution_count": null,
   "metadata": {},
   "outputs": [],
   "source": []
  },
  {
   "cell_type": "code",
   "execution_count": null,
   "metadata": {},
   "outputs": [],
   "source": [
    "#we need to convert the foreign_gross to float64, maybe we need to change title and studio to string as well\n",
    "bom_movie_gross.dtypes "
   ]
  },
  {
   "cell_type": "code",
   "execution_count": null,
   "metadata": {},
   "outputs": [],
   "source": [
    "#Code that converts comma to empty space \n",
    "\n",
    "bom_movie_gross['foreign_gross'] = bom_movie_gross.foreign_gross.str.replace(',', '').astype(float)"
   ]
  },
  {
   "cell_type": "code",
   "execution_count": null,
   "metadata": {},
   "outputs": [],
   "source": [
    "#original conversion failed due to a comma in one of the values, removed comma as shown above \n",
    "bom_movie_gross['foreign_gross'] = bom_movie_gross.foreign_gross.astype(float)"
   ]
  },
  {
   "cell_type": "code",
   "execution_count": null,
   "metadata": {},
   "outputs": [],
   "source": [
    "#You can see the dtypes have changed \n",
    "bom_movie_gross.dtypes"
   ]
  },
  {
   "cell_type": "code",
   "execution_count": null,
   "metadata": {},
   "outputs": [],
   "source": [
    "highest_dom_gross = bom_movie_gross['domestic_gross'].max()\n",
    "print(highest_dom_gross)"
   ]
  },
  {
   "cell_type": "code",
   "execution_count": null,
   "metadata": {},
   "outputs": [],
   "source": [
    "bom_movie_gross['domestic_gross'].min()"
   ]
  },
  {
   "cell_type": "code",
   "execution_count": null,
   "metadata": {},
   "outputs": [],
   "source": [
    "bom_movie_gross['domestic_gross'].mean()"
   ]
  },
  {
   "cell_type": "code",
   "execution_count": null,
   "metadata": {},
   "outputs": [],
   "source": [
    "import seaborn as sns "
   ]
  },
  {
   "cell_type": "code",
   "execution_count": null,
   "metadata": {
    "scrolled": true
   },
   "outputs": [],
   "source": [
    "sns.boxplot(bom_movie_gross['domestic_gross'])"
   ]
  },
  {
   "cell_type": "code",
   "execution_count": null,
   "metadata": {},
   "outputs": [],
   "source": [
    "bom_movie_gross['domestic_gross'].dtype"
   ]
  },
  {
   "cell_type": "code",
   "execution_count": null,
   "metadata": {},
   "outputs": [],
   "source": [
    "bom_movie_gross.groupby(['domestic_gross']).max()"
   ]
  },
  {
   "cell_type": "code",
   "execution_count": null,
   "metadata": {},
   "outputs": [],
   "source": []
  },
  {
   "cell_type": "code",
   "execution_count": null,
   "metadata": {},
   "outputs": [],
   "source": [
    "bom_movie_gross.min()"
   ]
  },
  {
   "cell_type": "code",
   "execution_count": null,
   "metadata": {},
   "outputs": [],
   "source": [
    "#create new column for total gross \n",
    "\n",
    "bom_movie_gross['total_gross'] = bom_movie_gross['domestic_gross'] + bom_movie_gross['foreign_gross']\n",
    "bom_movie_gross.head()"
   ]
  },
  {
   "cell_type": "code",
   "execution_count": null,
   "metadata": {},
   "outputs": [],
   "source": [
    "#Investigatiing columns for all existing files \n",
    "os.listdir('zippedData')"
   ]
  },
  {
   "cell_type": "code",
   "execution_count": null,
   "metadata": {},
   "outputs": [],
   "source": [
    "#Printed all the tables and headers of csv's \n",
    "#Objective is to create an sqlite3 db \n",
    "#Clear shows variables tconst, nconst\n",
    "print(\"bom Movie gross\")\n",
    "bom_movie_gross.head()\n",
    "print(\"IMBD Name Basics\") \n",
    "imdb_name_basics.head()\n",
    "print('Title AKAS')\n",
    "titles_akas.head()\n",
    "print('Title Basics')\n",
    "titles_basics.head()\n",
    "print('Title Crew')\n",
    "title_crew.head()\n",
    "print('title principals')\n",
    "title_principals.head()\n",
    "print('title ratings')\n",
    "title_ratings.head()\n",
    "print('tmdb movies')\n",
    "tmdb_movies.head()\n",
    "print('tn movies budget')\n",
    "tn_movies_budgets.head()"
   ]
  },
  {
   "cell_type": "code",
   "execution_count": null,
   "metadata": {},
   "outputs": [],
   "source": [
    "#Creating sqlite database \n",
    "import sqlite3"
   ]
  },
  {
   "cell_type": "code",
   "execution_count": null,
   "metadata": {},
   "outputs": [],
   "source": [
    "#Create an sqlite3 file in your directory with no files in it \n",
    "conn = sqlite3.connect(\"movies_db.sqlite\")"
   ]
  },
  {
   "cell_type": "code",
   "execution_count": null,
   "metadata": {},
   "outputs": [],
   "source": [
    "#Function creates sql tables from df's using \n",
    "#try method -\n",
    "#if it cant make the table, it will alert you \n",
    "\n",
    "def create_sql_table_from_df(df, name, conn):\n",
    "    try:\n",
    "        df.to_sql(name, conn)\n",
    "        print(f\"created table {name}\")\n",
    "        \n",
    "    except Exception as e:\n",
    "        print(f\"could not make table {name}\")\n",
    "        print(e)"
   ]
  },
  {
   "cell_type": "code",
   "execution_count": null,
   "metadata": {},
   "outputs": [],
   "source": [
    "for name, table in csv_files_dict.items():\n",
    "    create_sql_table_from_df(table, name, conn)"
   ]
  },
  {
   "cell_type": "code",
   "execution_count": null,
   "metadata": {},
   "outputs": [],
   "source": [
    "# Can you explain why this is necessary? \n",
    "\n",
    "# Now create a .gitignore file that will ignore the files that you unzipped and the sqlite file\n",
    "# look at mine for a reference\n",
    "# you cannot push files bigger than 100 MB to github from your computer\n",
    "\n",
    "# you can create your file here in jupyter and open it from jupyter\n",
    "\n",
    "#what does the w+ do? \n",
    "\n",
    "with open(\"./.gitignore\", \"w+\") as f:\n",
    "    f.write(\"*.sqlite\") # put files you want to ignore here\n",
    "    f.write(\"\\n\") # insert a new line after each file\n",
    "    f.write(\"zippedData/\")\n",
    "    f.write(\"\\n\")\n",
    "    f.write(\"zippedData/*.csv\")\n",
    "    f.write(\"\\n\")\n",
    "    f.write(\"zippedData/*.gz\")\n",
    " "
   ]
  },
  {
   "cell_type": "code",
   "execution_count": null,
   "metadata": {},
   "outputs": [],
   "source": [
    "#what types of joins could be useful for future processing? \n",
    "#Shared keys include - tconst(title constant), nconst "
   ]
  },
  {
   "cell_type": "code",
   "execution_count": null,
   "metadata": {},
   "outputs": [],
   "source": [
    "import matplotlib.pyplot as plt"
   ]
  },
  {
   "cell_type": "code",
   "execution_count": null,
   "metadata": {
    "scrolled": true
   },
   "outputs": [],
   "source": [
    "data = bom_movie_gross['total_gross']\n",
    "data2 = bom_movie_gross['title']"
   ]
  },
  {
   "cell_type": "code",
   "execution_count": null,
   "metadata": {},
   "outputs": [],
   "source": [
    "plt.hist(data, bins=10)\n",
    "plt.show()"
   ]
  },
  {
   "cell_type": "code",
   "execution_count": null,
   "metadata": {},
   "outputs": [],
   "source": [
    "prod_budget = tn_movies_budgets['production_budget']\n",
    "prod_budget.head()"
   ]
  },
  {
   "cell_type": "code",
   "execution_count": null,
   "metadata": {},
   "outputs": [],
   "source": [
    "#Scatter plot of domestic gross and foreign gross \n",
    "\n",
    "bom_movie_gross.plot.scatter(x = 'domestic_gross', \n",
    "                            y = 'foreign_gross')"
   ]
  },
  {
   "cell_type": "code",
   "execution_count": null,
   "metadata": {},
   "outputs": [],
   "source": [
    "bom_movie_gross['title']"
   ]
  },
  {
   "cell_type": "code",
   "execution_count": null,
   "metadata": {},
   "outputs": [],
   "source": [
    "#Need to remove duplicate \n",
    "bom_movie_gross['title'].value_counts()"
   ]
  },
  {
   "cell_type": "code",
   "execution_count": null,
   "metadata": {},
   "outputs": [],
   "source": [
    "titles = bom_movie_gross['title']"
   ]
  },
  {
   "cell_type": "code",
   "execution_count": null,
   "metadata": {},
   "outputs": [],
   "source": [
    "titles.map(lambda x: len(x.split())).head()"
   ]
  },
  {
   "cell_type": "code",
   "execution_count": null,
   "metadata": {},
   "outputs": [],
   "source": [
    "total_gross = bom_movie_gross.groupby(['total_gross'])"
   ]
  },
  {
   "cell_type": "code",
   "execution_count": null,
   "metadata": {},
   "outputs": [],
   "source": [
    "prod_budget = tn_movies_budgets['production_budget']\n",
    "prod_budget.head()"
   ]
  },
  {
   "cell_type": "code",
   "execution_count": null,
   "metadata": {},
   "outputs": [],
   "source": [
    "#Tried to plot prod budget vs total_gross but x and y need to be the same size\n",
    "\n",
    "#Have the relevant data in tn_movies_budget, plotting those "
   ]
  },
  {
   "cell_type": "code",
   "execution_count": null,
   "metadata": {},
   "outputs": [],
   "source": [
    "bom_movie_gross.shape\n",
    "tn_movies_budgets.shape"
   ]
  },
  {
   "cell_type": "code",
   "execution_count": null,
   "metadata": {},
   "outputs": [],
   "source": [
    "#Failed plot \n",
    "plt.plot(x = tn_movies_budgets['production_budget'], y = tn_movies_budgets['worldwide_gross'])"
   ]
  },
  {
   "cell_type": "code",
   "execution_count": null,
   "metadata": {},
   "outputs": [],
   "source": [
    "tn_movies_budgets['total_gross'] = tn_movies_budgets['domestic_gross'] + tn_movies_budgets['worldwide_gross']\n",
    "tn_movies_budgets.head()"
   ]
  },
  {
   "cell_type": "code",
   "execution_count": null,
   "metadata": {},
   "outputs": [],
   "source": [
    "#the column created above did not wory due to dtypes\n",
    "#Should i convert to string or int? how will commas impact it?\n",
    "\n",
    "tn_movies_budgets.dtypes"
   ]
  },
  {
   "cell_type": "code",
   "execution_count": null,
   "metadata": {},
   "outputs": [],
   "source": [
    "#Replaced commas. now onto dollar signs. This is repetitive and i wanted \\\n",
    "#to find a faster way \n",
    "tn_movies_budgets['domestic_gross'].str.replace(',', '')"
   ]
  },
  {
   "cell_type": "code",
   "execution_count": null,
   "metadata": {},
   "outputs": [],
   "source": [
    "#Created a function that removes $ sign and comma to save time \n",
    "#DO NOT FORGET TO REASSIGN VARIABLES \n",
    "#Biggest question here is repetition \n",
    "valid = '1234567890.'\n",
    "def clean(data):\n",
    "    return int(''.join(filter(lambda char: char in valid, data)))"
   ]
  },
  {
   "cell_type": "code",
   "execution_count": null,
   "metadata": {},
   "outputs": [],
   "source": [
    "tn_movies_budgets['domestic_gross'] = tn_movies_budgets['domestic_gross'].apply(clean)"
   ]
  },
  {
   "cell_type": "code",
   "execution_count": null,
   "metadata": {},
   "outputs": [],
   "source": [
    "tn_movies_budgets['worldwide_gross'] =  tn_movies_budgets['worldwide_gross'].apply(clean)"
   ]
  },
  {
   "cell_type": "code",
   "execution_count": null,
   "metadata": {},
   "outputs": [],
   "source": [
    "tn_movies_budgets['production_budget'] = tn_movies_budgets['production_budget'].apply(clean)"
   ]
  },
  {
   "cell_type": "code",
   "execution_count": null,
   "metadata": {},
   "outputs": [],
   "source": [
    "tn_movies_budgets.drop(columns = ['total_gross'])"
   ]
  },
  {
   "cell_type": "code",
   "execution_count": null,
   "metadata": {},
   "outputs": [],
   "source": [
    "tn_movies_budgets['total_gross'] = tn_movies_budgets['domestic_gross'] + tn_movies_budgets['worldwide_gross']"
   ]
  },
  {
   "cell_type": "code",
   "execution_count": null,
   "metadata": {},
   "outputs": [],
   "source": [
    "tn_movies_budgets.head()"
   ]
  },
  {
   "cell_type": "code",
   "execution_count": null,
   "metadata": {},
   "outputs": [],
   "source": [
    "plt.scatter(x = tn_movies_budgets['total_gross'],\n",
    "           y  = tn_movies_budgets['production_budget'])"
   ]
  },
  {
   "cell_type": "code",
   "execution_count": null,
   "metadata": {},
   "outputs": [],
   "source": [
    "np.var(tn_movies_budgets['total_gross'])"
   ]
  },
  {
   "cell_type": "code",
   "execution_count": null,
   "metadata": {},
   "outputs": [],
   "source": [
    "#binwidth = int(tn_movies_budgets['total_gross'].max()/10000000)"
   ]
  },
  {
   "cell_type": "code",
   "execution_count": null,
   "metadata": {},
   "outputs": [],
   "source": [
    "#Need to create a histogram to see distribution, establishing bin size\n"
   ]
  },
  {
   "cell_type": "code",
   "execution_count": null,
   "metadata": {},
   "outputs": [],
   "source": [
    "#this code managed to freeze my notebook !\n",
    "\n",
    "#plt.hist(tn_movies_budgets['total_gross'], color = 'blue', edgecolor='black',\n",
    "#        bins = range(min(tn_movies_budgets['total_gross']), max(tn_movies_budgets['total_gross']) + binwidth, binwidth))"
   ]
  },
  {
   "cell_type": "code",
   "execution_count": null,
   "metadata": {},
   "outputs": [],
   "source": []
  }
 ],
 "metadata": {
  "kernelspec": {
   "display_name": "Python 3",
   "language": "python",
   "name": "python3"
  },
  "language_info": {
   "codemirror_mode": {
    "name": "ipython",
    "version": 3
   },
   "file_extension": ".py",
   "mimetype": "text/x-python",
   "name": "python",
   "nbconvert_exporter": "python",
   "pygments_lexer": "ipython3",
   "version": "3.7.4"
  }
 },
 "nbformat": 4,
 "nbformat_minor": 2
}
